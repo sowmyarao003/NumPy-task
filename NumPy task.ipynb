{
 "cells": [
  {
   "cell_type": "code",
   "execution_count": 1,
   "id": "c4718a43-789e-4864-aef7-1503f294203f",
   "metadata": {},
   "outputs": [
    {
     "name": "stdout",
     "output_type": "stream",
     "text": [
      "Mean: 43.4\n",
      "Standard Deviation: 34.235069738500606\n"
     ]
    }
   ],
   "source": [
    "import numpy as np\n",
    "\n",
    "# Replace this with any array of numbers you want to analyze\n",
    "arr = np.array([4, 8, 15, 16, 23, 42, 56, 78, 91, 101])\n",
    "\n",
    "# Calculate the mean\n",
    "mean = np.mean(arr)\n",
    "print(\"Mean:\", mean)\n",
    "\n",
    "# Calculate the standard deviation\n",
    "std_dev = np.std(arr)\n",
    "print(\"Standard Deviation:\", std_dev)\n"
   ]
  },
  {
   "cell_type": "code",
   "execution_count": 2,
   "id": "a8b4f8e5-c6f1-4c33-94eb-975d8d8efe5e",
   "metadata": {},
   "outputs": [
    {
     "name": "stdout",
     "output_type": "stream",
     "text": [
      "Random 5x5 Matrix:\n",
      "[[0.70758952 0.78883578 0.58823087 0.18061183 0.39676253]\n",
      " [0.37140384 0.56219113 0.44105202 0.76784898 0.81324992]\n",
      " [0.95222465 0.87626232 0.50797591 0.48742768 0.24997329]\n",
      " [0.29656458 0.98072066 0.36612472 0.42247978 0.96451507]\n",
      " [0.13994126 0.64213942 0.30127869 0.79850978 0.18771844]]\n",
      "\n",
      "Minimum values along each row:\n",
      "[0.18061183 0.37140384 0.24997329 0.29656458 0.13994126]\n",
      "\n",
      "Maximum values along each row:\n",
      "[0.78883578 0.81324992 0.95222465 0.98072066 0.79850978]\n",
      "\n",
      "Minimum values along each column:\n",
      "[0.13994126 0.56219113 0.30127869 0.18061183 0.18771844]\n",
      "\n",
      "Maximum values along each column:\n",
      "[0.95222465 0.98072066 0.58823087 0.79850978 0.96451507]\n"
     ]
    }
   ],
   "source": [
    "# Generate a random 5x5 matrix\n",
    "matrix = np.random.rand(5, 5)\n",
    "print(\"Random 5x5 Matrix:\")\n",
    "print(matrix)\n",
    "\n",
    "# Find the minimum values along each row\n",
    "min_values_row = np.min(matrix, axis=1)\n",
    "print(\"\\nMinimum values along each row:\")\n",
    "print(min_values_row)\n",
    "\n",
    "# Find the maximum values along each row\n",
    "max_values_row = np.max(matrix, axis=1)\n",
    "print(\"\\nMaximum values along each row:\")\n",
    "print(max_values_row)\n",
    "\n",
    "# Find the minimum values along each column\n",
    "min_values_col = np.min(matrix, axis=0)\n",
    "print(\"\\nMinimum values along each column:\")\n",
    "print(min_values_col)\n",
    "\n",
    "# Find the maximum values along each column\n",
    "max_values_col = np.max(matrix, axis=0)\n",
    "print(\"\\nMaximum values along each column:\")\n",
    "print(max_values_col)\n"
   ]
  },
  {
   "cell_type": "code",
   "execution_count": 3,
   "id": "d1c76355-02cb-4b01-9c5b-99e8021253d8",
   "metadata": {},
   "outputs": [
    {
     "name": "stdout",
     "output_type": "stream",
     "text": [
      "Cosine Similarity: 0.9746318461970762\n"
     ]
    }
   ],
   "source": [
    "def cosine_similarity(vec1, vec2):\n",
    "    dot_product = np.dot(vec1, vec2)\n",
    "    norm_vec1 = np.linalg.norm(vec1)\n",
    "    norm_vec2 = np.linalg.norm(vec2)\n",
    "    similarity = dot_product / (norm_vec1 * norm_vec2)\n",
    "    return similarity\n",
    "vec1 = np.array([1, 2, 3])\n",
    "vec2 = np.array([4, 5, 6])\n",
    "similarity = cosine_similarity(vec1, vec2)\n",
    "print(\"Cosine Similarity:\", similarity)\n"
   ]
  }
 ],
 "metadata": {
  "kernelspec": {
   "display_name": "Python 3 (ipykernel)",
   "language": "python",
   "name": "python3"
  },
  "language_info": {
   "codemirror_mode": {
    "name": "ipython",
    "version": 3
   },
   "file_extension": ".py",
   "mimetype": "text/x-python",
   "name": "python",
   "nbconvert_exporter": "python",
   "pygments_lexer": "ipython3",
   "version": "3.11.7"
  }
 },
 "nbformat": 4,
 "nbformat_minor": 5
}
